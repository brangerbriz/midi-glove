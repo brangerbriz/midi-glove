{
 "cells": [
  {
   "cell_type": "markdown",
   "metadata": {},
   "source": [
    "# Process MIDI for GloVe\n",
    "Loads a collection of MIDI files from disk, filters out all non-monophonic tracks, and saves a sequence of notes from the remaining tracks to `data/notes.txt`. `notes.txt` can then be used by GloVe to create MIDI note embeddings."
   ]
  },
  {
   "cell_type": "markdown",
   "metadata": {},
   "source": [
    "## Imports"
   ]
  },
  {
   "cell_type": "code",
   "execution_count": 1,
   "metadata": {
    "collapsed": true
   },
   "outputs": [],
   "source": [
    "import os, time\n",
    "import numpy as np\n",
    "import pretty_midi"
   ]
  },
  {
   "cell_type": "markdown",
   "metadata": {},
   "source": [
    "## Utils"
   ]
  },
  {
   "cell_type": "code",
   "execution_count": 2,
   "metadata": {
    "collapsed": true
   },
   "outputs": [],
   "source": [
    "def parse_midi(path):\n",
    "    midi = None\n",
    "    with open(path, 'r') as f:\n",
    "        try:\n",
    "            midi = pretty_midi.PrettyMIDI(f)\n",
    "            midi.remove_invalid_notes()\n",
    "        except:\n",
    "            pass\n",
    "    return midi\n",
    "\n",
    "def get_percent_monophonic(pm_instrument_roll):\n",
    "    mask = pm_instrument_roll.T > 0\n",
    "    notes = np.sum(mask, axis=1)\n",
    "    n = np.count_nonzero(notes)\n",
    "    single = np.count_nonzero(notes == 1)\n",
    "    if single > 0:\n",
    "        return float(single) / float(n)\n",
    "    elif single == 0 and n > 0:\n",
    "        return 0.0\n",
    "    else: # no notes of any kind\n",
    "        return 0.0\n",
    "    \n",
    "def filter_monophonic(pm_instruments, percent_monophonic=0.99):\n",
    "    return [i for i in pm_instruments if get_percent_monophonic(i.get_piano_roll()) >= percent_monophonic]\n",
    "\n",
    "def get_note_string(midi):\n",
    "    midi = parse_midi(f)\n",
    "    if midi is not None:\n",
    "        buff = ''\n",
    "        for instrument in filter_monophonic(midi.instruments, 1.0):\n",
    "            buff += 'TRACK_START '\n",
    "            buff += ' '.join([str(n.pitch) for n in instrument.notes]) + ' '\n",
    "        return buff\n",
    "    return ''"
   ]
  },
  {
   "cell_type": "markdown",
   "metadata": {},
   "source": [
    "Edit `midi_dir` to point to the directory of MIDI files you would like to learn your note embeddings from."
   ]
  },
  {
   "cell_type": "code",
   "execution_count": 3,
   "metadata": {
    "collapsed": true
   },
   "outputs": [],
   "source": [
    "midi_dir = '../data/lmd_mono_tracks_seperated'"
   ]
  },
  {
   "cell_type": "markdown",
   "metadata": {},
   "source": [
    "Run it!"
   ]
  },
  {
   "cell_type": "code",
   "execution_count": 4,
   "metadata": {},
   "outputs": [
    {
     "name": "stdout",
     "output_type": "stream",
     "text": [
      "Finished in 2202.00431204 seconds\n"
     ]
    }
   ],
   "source": [
    "files = [os.path.join(midi_dir, f) for f in os.listdir(midi_dir)]\n",
    "\n",
    "start_time = time.time()\n",
    "with open('../data/notes.txt', 'w') as out_file:\n",
    "    for f in files:\n",
    "        out_file.write(get_note_string(f))\n",
    "    print('Finished in {} seconds'.format(time.time() - start_time))"
   ]
  }
 ],
 "metadata": {
  "kernelspec": {
   "display_name": "midi-GloVe",
   "language": "python",
   "name": "midi-glove"
  },
  "language_info": {
   "codemirror_mode": {
    "name": "ipython",
    "version": 2
   },
   "file_extension": ".py",
   "mimetype": "text/x-python",
   "name": "python",
   "nbconvert_exporter": "python",
   "pygments_lexer": "ipython2",
   "version": "2.7.12"
  }
 },
 "nbformat": 4,
 "nbformat_minor": 2
}
